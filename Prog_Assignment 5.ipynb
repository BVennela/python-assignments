{
 "cells": [
  {
   "cell_type": "code",
   "execution_count": 3,
   "id": "a3380cce",
   "metadata": {},
   "outputs": [
    {
     "name": "stdout",
     "output_type": "stream",
     "text": [
      "enter a number: 66\n",
      "enter another number: 24\n",
      "The L.C.M. is 264\n"
     ]
    }
   ],
   "source": [
    "#1\n",
    "def compute_lcm(x,y):\n",
    "    \n",
    "    if x>y:\n",
    "        greater = x\n",
    "    else:\n",
    "        greater = y\n",
    "        \n",
    "    while (True):\n",
    "        if((greater %x==0) and (greater%y==0)):\n",
    "            lcm=greater\n",
    "            break\n",
    "        greater +=1\n",
    "    return lcm\n",
    "num1=int(input(\"enter a number: \"))\n",
    "num2=int(input(\"enter another number: \"))\n",
    "\n",
    "print(\"The L.C.M. is\", compute_lcm(num1,num2))"
   ]
  },
  {
   "cell_type": "code",
   "execution_count": 6,
   "id": "49295d21",
   "metadata": {},
   "outputs": [
    {
     "name": "stdout",
     "output_type": "stream",
     "text": [
      "enter a number: 54\n",
      "enter another number: 24\n",
      "The H.C.F. is 6\n"
     ]
    }
   ],
   "source": [
    "#2\n",
    "def compute_lcm(x,y):\n",
    "    \n",
    "    if x>y:\n",
    "        smaller = x\n",
    "    else:\n",
    "        smaller = y\n",
    "    for i in range(1, smaller+1):\n",
    "        if((x%i==0) and (y%i==0)):\n",
    "            hcf=i\n",
    "    return hcf\n",
    "num1=int(input(\"enter a number: \"))\n",
    "num2=int(input(\"enter another number: \"))\n",
    "\n",
    "print(\"The H.C.F. is\", compute_lcm(num1,num2))"
   ]
  },
  {
   "cell_type": "code",
   "execution_count": 8,
   "id": "805f0cd4",
   "metadata": {},
   "outputs": [
    {
     "name": "stdout",
     "output_type": "stream",
     "text": [
      " Enter a Decimal number: 123\n",
      "The decimal value of 123 is:\n",
      "0b1111011 in binary.\n",
      "0o173 in octal.\n",
      "0x7b in hecadecimal.\n"
     ]
    }
   ],
   "source": [
    "#3\n",
    "dec = int(input(\" Enter a Decimal number: \"))\n",
    "\n",
    "print(\"The decimal value of\", dec, \"is:\")\n",
    "print(bin(dec), \"in binary.\")\n",
    "print(oct(dec),\"in octal.\")\n",
    "print(hex(dec),\"in hecadecimal.\")"
   ]
  },
  {
   "cell_type": "code",
   "execution_count": 12,
   "id": "32d60c2d",
   "metadata": {},
   "outputs": [
    {
     "name": "stdout",
     "output_type": "stream",
     "text": [
      "Enter any required value of ASCII :e\n",
      "The ASCII value of ' e' is 101\n"
     ]
    }
   ],
   "source": [
    "#4\n",
    "A = input(\"Enter any required value of ASCII :\")\n",
    "\n",
    "print(\"The ASCII value of ' \" +A+ \"' is\", ord(A))\n",
    "    "
   ]
  },
  {
   "cell_type": "code",
   "execution_count": 4,
   "id": "f972d5d5",
   "metadata": {},
   "outputs": [
    {
     "name": "stdout",
     "output_type": "stream",
     "text": [
      "Please select the option\n",
      "a.Add\n",
      "b.sub\n",
      "c.div\n",
      "d.mul\n",
      "please enter choice (a/b/c/d):d\n",
      "enter 1st number: 3\n",
      "enter 2nd number: 4\n",
      "3 * 4 = 12\n"
     ]
    }
   ],
   "source": [
    "#5\n",
    "def add(x,y):\n",
    "    return x+y\n",
    "def sub(x,y):\n",
    "    return x-y\n",
    "def div(x,y):\n",
    "    return x/y\n",
    "def mul(x,y):\n",
    "    return x*y\n",
    "\n",
    "print(\"Please select the option\")\n",
    "print(\"a.Add\")\n",
    "print(\"b.sub\")\n",
    "print(\"c.div\")\n",
    "print(\"d.mul\")\n",
    "\n",
    "choice = input(\"please enter choice (a/b/c/d):\")\n",
    "\n",
    "n1 = int(input(\"enter 1st number: \"))\n",
    "n2= int(input(\"enter 2nd number: \"))\n",
    "\n",
    "if choice == 'a':\n",
    "    print(n1,'+',n2,'=',add(n1,n2))\n",
    "    \n",
    "elif choice == 'b':\n",
    "    print(n1,'-',n2,'=',sub(n1,n2))\n",
    "    \n",
    "elif choice == 'c':\n",
    "    print(n1,'/',n2,'=',div(n1,n2))\n",
    "    \n",
    "elif choice == 'd':\n",
    "    print(n1,'*',n2,'=',mul(n1,n2))\n",
    "    \n",
    "else:\n",
    "    print(\"This is an invalid input\")\n",
    "    \n",
    "    "
   ]
  },
  {
   "cell_type": "code",
   "execution_count": null,
   "id": "4d37bd6f",
   "metadata": {},
   "outputs": [],
   "source": []
  }
 ],
 "metadata": {
  "kernelspec": {
   "display_name": "Python 3 (ipykernel)",
   "language": "python",
   "name": "python3"
  },
  "language_info": {
   "codemirror_mode": {
    "name": "ipython",
    "version": 3
   },
   "file_extension": ".py",
   "mimetype": "text/x-python",
   "name": "python",
   "nbconvert_exporter": "python",
   "pygments_lexer": "ipython3",
   "version": "3.9.12"
  }
 },
 "nbformat": 4,
 "nbformat_minor": 5
}
