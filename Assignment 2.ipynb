{
 "cells": [
  {
   "cell_type": "markdown",
   "id": "889d03cf",
   "metadata": {},
   "source": [
    " 1. The two values of the Boolean data type are True and False. we write them in the form of true(1) and False(0)"
   ]
  },
  {
   "cell_type": "markdown",
   "id": "65d229e7",
   "metadata": {},
   "source": [
    "2.The three different types of boolean operators are AND , OR and NOT"
   ]
  },
  {
   "cell_type": "markdown",
   "id": "f7176a7d",
   "metadata": {},
   "source": [
    "3.for AND operation:\n",
    "    true  true   = true\n",
    "    true  false  = false \n",
    "    false true   = false\n",
    "    false false  = false\n",
    " for OR operation:\n",
    "    true  true   = true\n",
    "    true  false  = true \n",
    "    false true   = true\n",
    "    false false  = false\n",
    " for NOT operation:\n",
    "    true  = false\n",
    "    false = true"
   ]
  },
  {
   "cell_type": "markdown",
   "id": "4c884e61",
   "metadata": {},
   "source": [
    "4.\n",
    "(5 > 4) and (3 == 5) = False\n",
    "not (5 > 4) = False\n",
    "(5 > 4) or (3 == 5) = True\n",
    "not ((5 >4) or (3 == 5)) = False\n",
    "(True and True) and (True == False) = False\n",
    "(not False) or (not True) = True"
   ]
  },
  {
   "cell_type": "markdown",
   "id": "84bfa6dd",
   "metadata": {},
   "source": [
    "5.the six comparison operators : <, <= ,>= ,>, ==, !="
   ]
  },
  {
   "cell_type": "raw",
   "id": "7a400dde",
   "metadata": {},
   "source": [
    "6.The “=” is an assignment operator is used to assign the value on the right to the variable on the left. The '==' operator checks whether the two given operands are equal or not. If so, it returns true. Otherwise it returns false."
   ]
  },
  {
   "cell_type": "markdown",
   "id": "322446a5",
   "metadata": {},
   "source": [
    "7. the three blocks in this code are:\n",
    "    1. if spam==10 \n",
    "    2. if spam>5\n",
    "    3. else:"
   ]
  },
  {
   "cell_type": "code",
   "execution_count": 14,
   "id": "a50a95d0",
   "metadata": {},
   "outputs": [
    {
     "name": "stdout",
     "output_type": "stream",
     "text": [
      "enter a number :3\n",
      "Greetings!\n"
     ]
    }
   ],
   "source": [
    "spam = int(input(\"enter a number :\"))\n",
    "if spam == 1:\n",
    "    print(\"Hello\")\n",
    "elif spam == 2 :\n",
    "    print(\"Howdy\")\n",
    "else :\n",
    "    print(\"Greetings!\")"
   ]
  },
  {
   "cell_type": "markdown",
   "id": "9c7fa45c",
   "metadata": {},
   "source": [
    "9. Ctrl + c"
   ]
  },
  {
   "cell_type": "markdown",
   "id": "0f840db7",
   "metadata": {},
   "source": [
    "10. The main difference between both the statements is that when break keyword comes, it          terminates the execution of the current loop and passes the control over the next loop or main body, whereas when continue keyword is encountered, it skips the current iteration and executes the very next iteration in the loop"
   ]
  },
  {
   "cell_type": "markdown",
   "id": "df55394d",
   "metadata": {},
   "source": [
    "11. -in case if range(10) it will print all the index value starting from o to 10-9 =9.\n",
    "-in case if range (0,10)  here it has defined thet starting index value and last index value so this will also print all the index values from 0 t0 9.\n",
    "-in case if range is (0,10,1) here it is defined that starting index value, last index value and with the difference of 1 so it will also print all the index values from 0 to 9."
   ]
  },
  {
   "cell_type": "code",
   "execution_count": 20,
   "id": "7efe9e5f",
   "metadata": {},
   "outputs": [
    {
     "name": "stdout",
     "output_type": "stream",
     "text": [
      "1\n",
      "2\n",
      "3\n",
      "4\n",
      "5\n",
      "6\n",
      "7\n",
      "8\n",
      "9\n",
      "10\n"
     ]
    }
   ],
   "source": [
    " for i in range(1,11):\n",
    "    print(i)"
   ]
  },
  {
   "cell_type": "code",
   "execution_count": 19,
   "id": "c3363e7d",
   "metadata": {},
   "outputs": [
    {
     "name": "stdout",
     "output_type": "stream",
     "text": [
      "1\n",
      "2\n",
      "3\n",
      "4\n",
      "5\n",
      "6\n",
      "7\n",
      "8\n",
      "9\n",
      "10\n"
     ]
    }
   ],
   "source": [
    "i = 1\n",
    "while(i<=10):\n",
    "    print(i)\n",
    "    i += 1"
   ]
  },
  {
   "cell_type": "markdown",
   "id": "be038251",
   "metadata": {},
   "source": [
    "13. This function can be called with spam. bacon()"
   ]
  }
 ],
 "metadata": {
  "kernelspec": {
   "display_name": "Python 3 (ipykernel)",
   "language": "python",
   "name": "python3"
  },
  "language_info": {
   "codemirror_mode": {
    "name": "ipython",
    "version": 3
   },
   "file_extension": ".py",
   "mimetype": "text/x-python",
   "name": "python",
   "nbconvert_exporter": "python",
   "pygments_lexer": "ipython3",
   "version": "3.9.12"
  }
 },
 "nbformat": 4,
 "nbformat_minor": 5
}
