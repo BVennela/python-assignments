{
 "cells": [
  {
   "cell_type": "code",
   "execution_count": 3,
   "id": "e3ac88f9",
   "metadata": {},
   "outputs": [
    {
     "name": "stdout",
     "output_type": "stream",
     "text": [
      "enter a number: 4\n",
      "the factorial of 4 is 24\n"
     ]
    }
   ],
   "source": [
    "#1\n",
    "num=int(input(\"enter a number: \"))\n",
    "\n",
    "fact = 1\n",
    "\n",
    "if num < 0:\n",
    "    print(\"There won't be factorial for values less then 0\")\n",
    "elif num == 0:\n",
    "    print(\"factorial of 0 is 1\")\n",
    "else:\n",
    "    for i in range(1,num+1):\n",
    "        fact=fact*i\n",
    "    print(\"the factorial of\",num,\"is\",fact)"
   ]
  },
  {
   "cell_type": "code",
   "execution_count": 6,
   "id": "1c4cdcd6",
   "metadata": {},
   "outputs": [
    {
     "name": "stdout",
     "output_type": "stream",
     "text": [
      "Enter required table value: 10\n",
      "10 * 1 = 10\n",
      "10 * 2 = 20\n",
      "10 * 3 = 30\n",
      "10 * 4 = 40\n",
      "10 * 5 = 50\n",
      "10 * 6 = 60\n",
      "10 * 7 = 70\n",
      "10 * 8 = 80\n",
      "10 * 9 = 90\n",
      "10 * 10 = 100\n"
     ]
    }
   ],
   "source": [
    "#2\n",
    "num = int(input(\"Enter required table value: \"))\n",
    "\n",
    "for i in range(1,11):\n",
    "    mul=num*i\n",
    "    print(num,\"*\",i,\"=\",mul)"
   ]
  },
  {
   "cell_type": "code",
   "execution_count": 7,
   "id": "7aae3540",
   "metadata": {},
   "outputs": [
    {
     "name": "stdout",
     "output_type": "stream",
     "text": [
      "enter a number :6\n",
      "the seqience is:\n",
      "0\n",
      "1\n",
      "1\n",
      "2\n",
      "3\n",
      "5\n",
      "8\n"
     ]
    }
   ],
   "source": [
    "#3\n",
    "num = int(input(\"enter a number :\"))\n",
    "\n",
    "n1=0\n",
    "n2=1\n",
    "count=0\n",
    "\n",
    "if num<=0:\n",
    "    print(\"Please enter a positive number\")\n",
    "elif num == 1:\n",
    "    print(n1)\n",
    "else:\n",
    "    print(\"the seqience is:\")\n",
    "    while count<= num:\n",
    "        print(n1)\n",
    "        nth=n1+n2\n",
    "        n1=n2\n",
    "        n2=nth\n",
    "        count = count+1"
   ]
  },
  {
   "cell_type": "code",
   "execution_count": 2,
   "id": "a78c8eb6",
   "metadata": {},
   "outputs": [
    {
     "name": "stdout",
     "output_type": "stream",
     "text": [
      "Enter a number :407\n",
      "407 is a amstrong number\n"
     ]
    }
   ],
   "source": [
    "#4\n",
    "num =int(input(\"Enter a number :\"))\n",
    " \n",
    "order = len(str(num))\n",
    "\n",
    "sum=0\n",
    "\n",
    "temp= num\n",
    "while temp>0:\n",
    "    d = temp%10\n",
    "    sum = sum+(d**order)\n",
    "    temp //=10\n",
    "    \n",
    "if num == sum:\n",
    "    print(num,\"is a amstrong number\")\n",
    "else:\n",
    "    print(num,\"is not a amstrong number\")"
   ]
  },
  {
   "cell_type": "code",
   "execution_count": 9,
   "id": "e98dee2e",
   "metadata": {},
   "outputs": [
    {
     "name": "stdout",
     "output_type": "stream",
     "text": [
      "enter a lower number100\n",
      "enter a upper number2000\n",
      "153\n",
      "370\n",
      "371\n",
      "407\n",
      "1634\n"
     ]
    }
   ],
   "source": [
    "#5\n",
    "lower =int(input(\"enter a lower number\"))\n",
    "upper =int(input(\"enter a upper number\"))\n",
    "\n",
    "for num in range(lower, upper+1):\n",
    "    order = len(str(num))\n",
    "\n",
    "    sum=0\n",
    "\n",
    "    temp= num\n",
    "    while temp>0:\n",
    "        d = temp%10\n",
    "        sum = sum+(d**order)\n",
    "        temp //=10\n",
    "    \n",
    "    if num == sum:\n",
    "        print(num)"
   ]
  },
  {
   "cell_type": "code",
   "execution_count": 2,
   "id": "f2968482",
   "metadata": {},
   "outputs": [
    {
     "name": "stdout",
     "output_type": "stream",
     "text": [
      "Enter a number :16\n",
      "The sum is: 136\n"
     ]
    }
   ],
   "source": [
    "#6\n",
    "num = int(input(\"Enter a number :\"))\n",
    "\n",
    "if num <0:\n",
    "    print(\"Enter a positive  number\")\n",
    "else:\n",
    "    sum = 0\n",
    "    while(num>0):\n",
    "        sum = sum+num\n",
    "        num = num-1\n",
    "    print(\"The sum is:\",sum)"
   ]
  },
  {
   "cell_type": "code",
   "execution_count": null,
   "id": "07e74788",
   "metadata": {},
   "outputs": [],
   "source": []
  }
 ],
 "metadata": {
  "kernelspec": {
   "display_name": "Python 3 (ipykernel)",
   "language": "python",
   "name": "python3"
  },
  "language_info": {
   "codemirror_mode": {
    "name": "ipython",
    "version": 3
   },
   "file_extension": ".py",
   "mimetype": "text/x-python",
   "name": "python",
   "nbconvert_exporter": "python",
   "pygments_lexer": "ipython3",
   "version": "3.9.12"
  }
 },
 "nbformat": 4,
 "nbformat_minor": 5
}
