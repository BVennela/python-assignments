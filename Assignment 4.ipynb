{
 "cells": [
  {
   "cell_type": "markdown",
   "id": "fec23341",
   "metadata": {},
   "source": [
    "1.[]: this is a empty list value,where it has no valus in that"
   ]
  },
  {
   "cell_type": "code",
   "execution_count": 6,
   "id": "330e536b",
   "metadata": {},
   "outputs": [
    {
     "name": "stdout",
     "output_type": "stream",
     "text": [
      "[2, 4, 'hello', 6, 8, 10]\n"
     ]
    }
   ],
   "source": [
    "#2\n",
    "spam = [2, 4, 6, 8, 10]\n",
    "spam.insert(2,'hello')\n",
    "print (spam)"
   ]
  },
  {
   "cell_type": "code",
   "execution_count": 8,
   "id": "60b690c3",
   "metadata": {},
   "outputs": [
    {
     "name": "stdout",
     "output_type": "stream",
     "text": [
      "['a', 'b', 'c', 'd']\n"
     ]
    }
   ],
   "source": [
    "spam= ['a','b','c','d']\n",
    "print(spam)"
   ]
  },
  {
   "cell_type": "code",
   "execution_count": 16,
   "id": "2a548d73",
   "metadata": {},
   "outputs": [
    {
     "data": {
      "text/plain": [
       "'d'"
      ]
     },
     "execution_count": 16,
     "metadata": {},
     "output_type": "execute_result"
    }
   ],
   "source": [
    "#3\n",
    "spam[int(int('3'*2)/11)]"
   ]
  },
  {
   "cell_type": "code",
   "execution_count": 17,
   "id": "9ab21f10",
   "metadata": {},
   "outputs": [
    {
     "data": {
      "text/plain": [
       "'d'"
      ]
     },
     "execution_count": 17,
     "metadata": {},
     "output_type": "execute_result"
    }
   ],
   "source": [
    "#4\n",
    "spam[-1]"
   ]
  },
  {
   "cell_type": "code",
   "execution_count": 18,
   "id": "c1d79fa0",
   "metadata": {},
   "outputs": [
    {
     "data": {
      "text/plain": [
       "['a', 'b']"
      ]
     },
     "execution_count": 18,
     "metadata": {},
     "output_type": "execute_result"
    }
   ],
   "source": [
    "#5\n",
    "spam[:2]"
   ]
  },
  {
   "cell_type": "code",
   "execution_count": 22,
   "id": "088cb427",
   "metadata": {},
   "outputs": [
    {
     "name": "stdout",
     "output_type": "stream",
     "text": [
      "[3.14, 'cat', 11, 'cat', True]\n"
     ]
    }
   ],
   "source": [
    "bacon= [3.14,'cat',11,'cat',True]\n",
    "print(bacon)"
   ]
  },
  {
   "cell_type": "code",
   "execution_count": 23,
   "id": "9797809b",
   "metadata": {},
   "outputs": [
    {
     "data": {
      "text/plain": [
       "1"
      ]
     },
     "execution_count": 23,
     "metadata": {},
     "output_type": "execute_result"
    }
   ],
   "source": [
    "#6\n",
    "bacon.index('cat')"
   ]
  },
  {
   "cell_type": "markdown",
   "id": "36141e35",
   "metadata": {},
   "source": [
    "#7\n",
    "the look of the list value in bacon changes to [3.14, 'cat', 11, 'cat', True, 99]\n"
   ]
  },
  {
   "cell_type": "markdown",
   "id": "10ded67d",
   "metadata": {},
   "source": [
    "#8\n",
    "the look of the list value in bacon changes to [3.14, 11, 'cat', True, 99]"
   ]
  },
  {
   "cell_type": "markdown",
   "id": "c9826480",
   "metadata": {},
   "source": [
    "#9\n",
    "The operator for list concatenation is +, while the operator for replication is *."
   ]
  },
  {
   "cell_type": "markdown",
   "id": "2c12b73c",
   "metadata": {},
   "source": [
    "#10\n",
    "append(): here the values to the list is added at the end\n",
    "insert(): here we can add value to the list according to our requirement(add a specific element at a specified index of the list )"
   ]
  },
  {
   "cell_type": "markdown",
   "id": "f0abc511",
   "metadata": {},
   "source": [
    "#11\n",
    "The two methods for removing items from a list are pop() and remove()."
   ]
  },
  {
   "cell_type": "markdown",
   "id": "79bcd35e",
   "metadata": {},
   "source": [
    "#12\n",
    "The similarity between Lists and Strings in Python is that both are sequences."
   ]
  },
  {
   "cell_type": "markdown",
   "id": "00ad7c24",
   "metadata": {},
   "source": [
    "#13\n",
    "The difference between the tuples and lists is that while the tuples are immutable objects the lists are mutable . This means that tuples cannot be changed while the lists can be modified."
   ]
  },
  {
   "cell_type": "markdown",
   "id": "140ce039",
   "metadata": {},
   "source": [
    "#14\n",
    "(42,)"
   ]
  },
  {
   "cell_type": "markdown",
   "id": "f3ce3d25",
   "metadata": {},
   "source": [
    "#15\n",
    "The tuple() and list() functions, respectively is the way to get the list valu's tuple form "
   ]
  },
  {
   "cell_type": "markdown",
   "id": "06485d76",
   "metadata": {},
   "source": [
    "#16 \n",
    "They contain references to list values."
   ]
  },
  {
   "cell_type": "markdown",
   "id": "bc8d5184",
   "metadata": {},
   "source": [
    "#17\n",
    "The copy.copy() function will do a shallow copy of a list, while the copy.deepcopy() function will do a deep copy of a list. That is, only copy.deepcopy() will duplicate any lists inside the list."
   ]
  }
 ],
 "metadata": {
  "kernelspec": {
   "display_name": "Python 3 (ipykernel)",
   "language": "python",
   "name": "python3"
  },
  "language_info": {
   "codemirror_mode": {
    "name": "ipython",
    "version": 3
   },
   "file_extension": ".py",
   "mimetype": "text/x-python",
   "name": "python",
   "nbconvert_exporter": "python",
   "pygments_lexer": "ipython3",
   "version": "3.9.12"
  }
 },
 "nbformat": 4,
 "nbformat_minor": 5
}
