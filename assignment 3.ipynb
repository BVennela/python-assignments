{
 "cells": [
  {
   "cell_type": "markdown",
   "id": "a4ccbb86",
   "metadata": {},
   "source": [
    "1.Functions are adventageous because reduces the need for duplicate code  and makes program shorter, easier to read, and easier to update."
   ]
  },
  {
   "cell_type": "markdown",
   "id": "2d4f8414",
   "metadata": {},
   "source": [
    "2.The code of a function run when it is called."
   ]
  },
  {
   "cell_type": "markdown",
   "id": "817d256a",
   "metadata": {},
   "source": [
    "3.The “def” keyword is a statement for defining a function"
   ]
  },
  {
   "cell_type": "markdown",
   "id": "b456c9ff",
   "metadata": {},
   "source": [
    "4.Using a function to do a particular task any point in program is called as function call.\n",
    "So the difference between the function and function call is,\n",
    "A function is procedure to achieve a particular result while function call is using this function to achive that task."
   ]
  },
  {
   "cell_type": "markdown",
   "id": "f87d6695",
   "metadata": {},
   "source": [
    "5.There is only one global scope and and one local scope"
   ]
  },
  {
   "cell_type": "markdown",
   "id": "483ec1c9",
   "metadata": {},
   "source": [
    "6.When the execution of the function terminates (returns), the local variables are destroyed. Codelens helps you visualize this because the local variables disappear after the function returns."
   ]
  },
  {
   "cell_type": "markdown",
   "id": "9eb1b802",
   "metadata": {},
   "source": [
    "7.The concept of return value is that the value of that function returens to the celler or it also known as function return value and yes, it is possible to have return valu in an expression."
   ]
  },
  {
   "cell_type": "markdown",
   "id": "3eb6f33b",
   "metadata": {},
   "source": [
    "8.It returns NONE"
   ]
  },
  {
   "cell_type": "markdown",
   "id": "8c84f22a",
   "metadata": {},
   "source": [
    "9.If you want to refer to a global variable in a function, you can use the global keyword to declare which variables are global."
   ]
  },
  {
   "cell_type": "markdown",
   "id": "40697689",
   "metadata": {},
   "source": [
    "10.None is a data type of its own"
   ]
  },
  {
   "cell_type": "markdown",
   "id": "c54c5fe7",
   "metadata": {},
   "source": [
    "11.That import statement imports a module named areallyourpetsnamederic."
   ]
  },
  {
   "cell_type": "markdown",
   "id": "cb89f073",
   "metadata": {},
   "source": [
    "12.If we have a function named bacon() inside a module named spam then this function can be called with spam.bacon()."
   ]
  },
  {
   "cell_type": "markdown",
   "id": "e7fd70e6",
   "metadata": {},
   "source": [
    "13.Try running the program and it should throw an error message instead of crashing the program."
   ]
  },
  {
   "cell_type": "markdown",
   "id": "5935d4d8",
   "metadata": {},
   "source": [
    "14.The try block lets you test a block of code for errors. and The except block lets you handle the error. The else block lets you execute code when there is no error. The finally block lets you execute code, regardless of the result of the try- and except blocks."
   ]
  }
 ],
 "metadata": {
  "kernelspec": {
   "display_name": "Python 3 (ipykernel)",
   "language": "python",
   "name": "python3"
  },
  "language_info": {
   "codemirror_mode": {
    "name": "ipython",
    "version": 3
   },
   "file_extension": ".py",
   "mimetype": "text/x-python",
   "name": "python",
   "nbconvert_exporter": "python",
   "pygments_lexer": "ipython3",
   "version": "3.9.12"
  }
 },
 "nbformat": 4,
 "nbformat_minor": 5
}
