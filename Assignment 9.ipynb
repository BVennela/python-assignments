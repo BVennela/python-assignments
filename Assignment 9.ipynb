{
 "cells": [
  {
   "cell_type": "markdown",
   "id": "0efe6172",
   "metadata": {},
   "source": [
    "#1\n",
    "A relative file path is interpreted from the perspective your current working directory."
   ]
  },
  {
   "cell_type": "markdown",
   "id": "fa3b117d",
   "metadata": {},
   "source": [
    "#2\n",
    "Absolute paths start with the root folder, such as / or C:\\."
   ]
  },
  {
   "cell_type": "markdown",
   "id": "6c7b2fa7",
   "metadata": {},
   "source": [
    "#3\n",
    "The os.getcwd() function returns the current working directory. The os.chdir() function changes the current working directory."
   ]
  },
  {
   "cell_type": "markdown",
   "id": "4d845812",
   "metadata": {},
   "source": [
    "#4\n",
    "The . folder is the current folder, and .. is the parent folder."
   ]
  },
  {
   "cell_type": "markdown",
   "id": "017cf937",
   "metadata": {},
   "source": [
    "#5\n",
    "C:\\bacon\\eggs is the dir name, while spam.txt is the base name."
   ]
  },
  {
   "cell_type": "markdown",
   "id": "39b507e6",
   "metadata": {},
   "source": [
    "#6\n",
    "The string 'r' for read mode, 'w' for write mode, and 'a' for append mode"
   ]
  },
  {
   "cell_type": "markdown",
   "id": "2573478f",
   "metadata": {},
   "source": [
    "#7\n",
    "An existing file opened in write mode is erased and completely overwritten."
   ]
  },
  {
   "cell_type": "markdown",
   "id": "3453ea1d",
   "metadata": {},
   "source": [
    "#8\n",
    "The read() method returns the file's entire contents as a single string value. The readlines() method returns a list of strings, where each string is a line from the file's contents."
   ]
  },
  {
   "cell_type": "markdown",
   "id": "ffd61d34",
   "metadata": {},
   "source": [
    "#9\n",
    "A shelf value resembles a dictionary value; it has keys and values, along with keys() and values() methods that work similarly to the dictionary methods of the same names."
   ]
  },
  {
   "cell_type": "code",
   "execution_count": null,
   "id": "51a3e997",
   "metadata": {},
   "outputs": [],
   "source": []
  }
 ],
 "metadata": {
  "kernelspec": {
   "display_name": "Python 3 (ipykernel)",
   "language": "python",
   "name": "python3"
  },
  "language_info": {
   "codemirror_mode": {
    "name": "ipython",
    "version": 3
   },
   "file_extension": ".py",
   "mimetype": "text/x-python",
   "name": "python",
   "nbconvert_exporter": "python",
   "pygments_lexer": "ipython3",
   "version": "3.9.12"
  }
 },
 "nbformat": 4,
 "nbformat_minor": 5
}
