{
 "cells": [
  {
   "cell_type": "markdown",
   "id": "78a91691",
   "metadata": {},
   "source": [
    "1.Values: 'hello',-87.8,6\n",
    "    Expression: *, -, /, +"
   ]
  },
  {
   "cell_type": "markdown",
   "id": "2356b30d",
   "metadata": {},
   "source": [
    "2.Variables are the symbols that you can use to store data in the program. you can think of them as an empty box that you fill with some data or value. Strings are data, so we  can use them to fill up variable. Declaring strings as variables can make it easier for us to work with strings throughout our progtrams."
   ]
  },
  {
   "cell_type": "markdown",
   "id": "95a3bd03",
   "metadata": {},
   "source": [
    "3.The three different data types are:\n",
    "    1.integer\n",
    "    2.floting point numbers\n",
    "    3.complex numbers."
   ]
  },
  {
   "cell_type": "markdown",
   "id": "a8e5583a",
   "metadata": {},
   "source": [
    "4.An expression is a contruct made up of variables, operators, and method invocations, which are constructed according to the syntax of the language, that evaluates to a single value."
   ]
  },
  {
   "cell_type": "markdown",
   "id": "d9eb9efe",
   "metadata": {},
   "source": [
    "5.An expression always evalyates to a value. and, A statement does somthing, like creating a variable or displaying a value, it only does whatever that statement says. "
   ]
  },
  {
   "cell_type": "markdown",
   "id": "35e71bec",
   "metadata": {},
   "source": [
    "6.23"
   ]
  },
  {
   "cell_type": "markdown",
   "id": "4edb0087",
   "metadata": {},
   "source": [
    "7.a.'spamspamspam'\n",
    "  b.'spamspamspam'"
   ]
  },
  {
   "cell_type": "markdown",
   "id": "a9da3d51",
   "metadata": {},
   "source": [
    "8.Variable names cannot begin with a number."
   ]
  },
  {
   "cell_type": "markdown",
   "id": "0cbd3470",
   "metadata": {},
   "source": [
    "9.the int(), float() and str() functions will evaluate to the integer, floating-point number, and string versions of the valu passed to them."
   ]
  },
  {
   "cell_type": "code",
   "execution_count": 3,
   "id": "7b7ed833",
   "metadata": {},
   "outputs": [
    {
     "ename": "TypeError",
     "evalue": "can only concatenate str (not \"int\") to str",
     "output_type": "error",
     "traceback": [
      "\u001b[1;31m---------------------------------------------------------------------------\u001b[0m",
      "\u001b[1;31mTypeError\u001b[0m                                 Traceback (most recent call last)",
      "Input \u001b[1;32mIn [3]\u001b[0m, in \u001b[0;36m<cell line: 2>\u001b[1;34m()\u001b[0m\n\u001b[0;32m      1\u001b[0m \u001b[38;5;66;03m#10\u001b[39;00m\n\u001b[1;32m----> 2\u001b[0m \u001b[38;5;124;43m'\u001b[39;49m\u001b[38;5;124;43mI have eaten\u001b[39;49m\u001b[38;5;124;43m'\u001b[39;49m\u001b[43m \u001b[49m\u001b[38;5;241;43m+\u001b[39;49m\u001b[38;5;241;43m99\u001b[39;49m\u001b[38;5;241m+\u001b[39m \u001b[38;5;124m'\u001b[39m\u001b[38;5;124mburritos\u001b[39m\u001b[38;5;124m'\u001b[39m\n",
      "\u001b[1;31mTypeError\u001b[0m: can only concatenate str (not \"int\") to str"
     ]
    }
   ],
   "source": [
    "#10\n",
    "'I have eaten' +99+ 'burritos'"
   ]
  },
  {
   "cell_type": "code",
   "execution_count": 4,
   "id": "bf667250",
   "metadata": {},
   "outputs": [
    {
     "data": {
      "text/plain": [
       "'I have eaten99burritos'"
      ]
     },
     "execution_count": 4,
     "metadata": {},
     "output_type": "execute_result"
    }
   ],
   "source": [
    "#11.\n",
    "'I have eaten' +str(99)+ 'burritos'"
   ]
  },
  {
   "cell_type": "code",
   "execution_count": null,
   "id": "44b880c7",
   "metadata": {},
   "outputs": [],
   "source": []
  }
 ],
 "metadata": {
  "kernelspec": {
   "display_name": "Python 3 (ipykernel)",
   "language": "python",
   "name": "python3"
  },
  "language_info": {
   "codemirror_mode": {
    "name": "ipython",
    "version": 3
   },
   "file_extension": ".py",
   "mimetype": "text/x-python",
   "name": "python",
   "nbconvert_exporter": "python",
   "pygments_lexer": "ipython3",
   "version": "3.9.12"
  }
 },
 "nbformat": 4,
 "nbformat_minor": 5
}
