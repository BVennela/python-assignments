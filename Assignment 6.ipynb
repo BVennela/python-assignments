{
 "cells": [
  {
   "cell_type": "markdown",
   "id": "37b19b70",
   "metadata": {},
   "source": [
    "#1.\n",
    "Escape characters represent characters in string values that would otherwise be difficult or impossible to type into code. It is used in representing certain whitespace characters: \"\\t\" is a tab, \"\\n\" is a newline, and \"\\r\" is a carriage return."
   ]
  },
  {
   "cell_type": "markdown",
   "id": "d7d4f59f",
   "metadata": {},
   "source": [
    "#2.\n",
    "\"\\n\" is a newline\n",
    "\"\\t\" is a tab"
   ]
  },
  {
   "cell_type": "markdown",
   "id": "e67e6be4",
   "metadata": {},
   "source": [
    "#3.\n",
    "\\\\ is the way to include backslash characters in a string"
   ]
  },
  {
   "cell_type": "markdown",
   "id": "be5f84be",
   "metadata": {},
   "source": [
    "#4.\n",
    "The single quote in Howl's is fine because you've used double quotes to mark the beginning and end of the string."
   ]
  },
  {
   "cell_type": "markdown",
   "id": "9bf88ad1",
   "metadata": {},
   "source": [
    "#5.\n",
    "Multiline strings allow you to use newlines in strings without the \\n escape character."
   ]
  },
  {
   "cell_type": "markdown",
   "id": "5790541c",
   "metadata": {},
   "source": [
    "#6.\n",
    "The values of the given expressions are:\n",
    "    1. 'e'\n",
    "    2.'Hello'\n",
    "    3.'Hello'\n",
    "    4.'lo, world!'"
   ]
  },
  {
   "cell_type": "markdown",
   "id": "626618f1",
   "metadata": {},
   "source": [
    "#7.\n",
    "The values of the following expressions are:\n",
    "    1.'HELLO'\n",
    "    2.True\n",
    "    3.'hello'"
   ]
  },
  {
   "cell_type": "code",
   "execution_count": null,
   "id": "f1211a99",
   "metadata": {},
   "outputs": [],
   "source": [
    "#8.\n",
    "the following expressions evaluate to:\n",
    "    1.['Remember,', 'remember,', 'the', 'fifth', 'of', 'November.']\n",
    "    2.'There-can-be-only-one.'"
   ]
  },
  {
   "cell_type": "markdown",
   "id": "3d05e3b0",
   "metadata": {},
   "source": [
    "#9.\n",
    "The rjust(), ljust(), and center() string methods, respectively"
   ]
  },
  {
   "cell_type": "markdown",
   "id": "8d1472a3",
   "metadata": {},
   "source": [
    "#10.\n",
    "The lstrip() and rstrip() methods remove whitespace from the left and right ends of a string, respectively."
   ]
  }
 ],
 "metadata": {
  "kernelspec": {
   "display_name": "Python 3 (ipykernel)",
   "language": "python",
   "name": "python3"
  },
  "language_info": {
   "codemirror_mode": {
    "name": "ipython",
    "version": 3
   },
   "file_extension": ".py",
   "mimetype": "text/x-python",
   "name": "python",
   "nbconvert_exporter": "python",
   "pygments_lexer": "ipython3",
   "version": "3.9.12"
  }
 },
 "nbformat": 4,
 "nbformat_minor": 5
}
