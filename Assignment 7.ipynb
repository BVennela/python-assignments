{
 "cells": [
  {
   "cell_type": "markdown",
   "id": "ca18b01e",
   "metadata": {},
   "source": [
    "#1.\n",
    "The re. compile() function returns Regex objects."
   ]
  },
  {
   "cell_type": "markdown",
   "id": "2e62c983",
   "metadata": {},
   "source": [
    "#2.\n",
    " Raw strings are used so that backslashes do not have to be escaped."
   ]
  },
  {
   "cell_type": "markdown",
   "id": "bf69a8f3",
   "metadata": {},
   "source": [
    "#3.\n",
    "The search() method returns Match objects."
   ]
  },
  {
   "cell_type": "markdown",
   "id": "8914f4a9",
   "metadata": {},
   "source": [
    "#4.\n",
    "The group() method returns strings of the matched text."
   ]
  },
  {
   "cell_type": "markdown",
   "id": "21d9d2c1",
   "metadata": {},
   "source": [
    "#5.\n",
    "Group 0 is the entire match, group 1 covers the first set of parentheses, and group 2 covers the second set of parentheses."
   ]
  },
  {
   "cell_type": "markdown",
   "id": "43bb0882",
   "metadata": {},
   "source": [
    "#6.\n",
    "Periods and parentheses can be escaped with a backslash: \\., \\(, and \\)."
   ]
  },
  {
   "cell_type": "markdown",
   "id": "1d67bf32",
   "metadata": {},
   "source": [
    "#7.\n",
    "If the regex has no groups, a list of strings is returned. If the regex has groups, a list of tuples of strings is returned."
   ]
  },
  {
   "cell_type": "code",
   "execution_count": null,
   "id": "9215114e",
   "metadata": {},
   "outputs": [],
   "source": [
    "#8.\n",
    "The | character signifies matching \"either, or\" between two groups."
   ]
  },
  {
   "cell_type": "markdown",
   "id": "5345e776",
   "metadata": {},
   "source": [
    "#9.\n",
    "The ? character can either mean \"match zero or one of the preceding group\" or be used to signify nongreedy matching."
   ]
  },
  {
   "cell_type": "markdown",
   "id": "c58e39af",
   "metadata": {},
   "source": [
    "10.\n",
    "The + matches one or more. The * matches zero or more."
   ]
  },
  {
   "cell_type": "markdown",
   "id": "dd088f8e",
   "metadata": {},
   "source": [
    "#11.\n",
    "The {4} matches exactly 4 instances of the preceding group. The {4,5} matches between 4 and 5 instances."
   ]
  },
  {
   "cell_type": "markdown",
   "id": "9a0605d9",
   "metadata": {},
   "source": [
    "#12.\n",
    "The \\d, \\w, and \\s shorthand character classes match a single digit, word, or space character, respectively."
   ]
  },
  {
   "cell_type": "markdown",
   "id": "2ac26a79",
   "metadata": {},
   "source": [
    "#13.\n",
    "The \\D, \\W, and \\S shorthand character classes match a single character that is not a digit, word, or space character, respectively."
   ]
  },
  {
   "cell_type": "markdown",
   "id": "fc88b8eb",
   "metadata": {},
   "source": [
    "#14.\n",
    "(. *?) matches any character ( . ) any number of times ( * ), as few times as possible to make the regex match ( ? ). "
   ]
  },
  {
   "cell_type": "markdown",
   "id": "7e33fb41",
   "metadata": {},
   "source": [
    "#15.\n",
    "Either [0-9a-z] or [a-z0-9]"
   ]
  },
  {
   "cell_type": "markdown",
   "id": "0ee8f57c",
   "metadata": {},
   "source": [
    "#16.\n",
    "Passing re.I or re.IGNORECASE as the second argument to re.compile() will make the matching case insensitive."
   ]
  },
  {
   "cell_type": "markdown",
   "id": "baf528f7",
   "metadata": {},
   "source": [
    "#17.\n",
    "The . character normally matches any character except the newline character. If re.DOTALL is passed as the second argument to re.compile(), then the dot will also match newline characters."
   ]
  },
  {
   "cell_type": "markdown",
   "id": "5e195c3c",
   "metadata": {},
   "source": [
    "#18.\n",
    "'X drummers, X pipers, five rings, X hens'"
   ]
  },
  {
   "cell_type": "markdown",
   "id": "8c81c65b",
   "metadata": {},
   "source": [
    "#19.\n",
    "The re.VERBOSE argument allows you to add whitespace and comments to the string passed to re.compile()."
   ]
  },
  {
   "cell_type": "markdown",
   "id": "905b6f8c",
   "metadata": {},
   "source": [
    "#20.\n",
    "re.compile(r'^\\d{1,3}(,\\d{3})*$') will create this regex, but other regex strings can produce a similar regular expression."
   ]
  },
  {
   "cell_type": "markdown",
   "id": "b614eedf",
   "metadata": {},
   "source": [
    "#21.\n",
    "re.compile(r'[A-Z][a-z]*\\sNakamoto')"
   ]
  },
  {
   "cell_type": "markdown",
   "id": "f2493588",
   "metadata": {},
   "source": [
    "#22.\n",
    "re.compile(r'(Alice|Bob|Carol)\\s(eats|pets|throws)\\s(apples|cats|baseballs)\\.', re.IGNORECASE)"
   ]
  }
 ],
 "metadata": {
  "kernelspec": {
   "display_name": "Python 3 (ipykernel)",
   "language": "python",
   "name": "python3"
  },
  "language_info": {
   "codemirror_mode": {
    "name": "ipython",
    "version": 3
   },
   "file_extension": ".py",
   "mimetype": "text/x-python",
   "name": "python",
   "nbconvert_exporter": "python",
   "pygments_lexer": "ipython3",
   "version": "3.9.12"
  }
 },
 "nbformat": 4,
 "nbformat_minor": 5
}
