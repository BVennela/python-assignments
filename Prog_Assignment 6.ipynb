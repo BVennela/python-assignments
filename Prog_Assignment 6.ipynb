{
 "cells": [
  {
   "cell_type": "code",
   "execution_count": 2,
   "id": "66874726",
   "metadata": {},
   "outputs": [
    {
     "name": "stdout",
     "output_type": "stream",
     "text": [
      "How many terms? 5\n",
      "Fibonacci sequence: \n",
      "0\n",
      "1\n",
      "1\n",
      "2\n",
      "3\n"
     ]
    }
   ],
   "source": [
    "#1\n",
    "def recur_fibo(n):\n",
    "    if n<=1:\n",
    "        return n\n",
    "    else:\n",
    "        return(recur_fibo(n-1) + recur_fibo(n-2))\n",
    "\n",
    "nterms = int(input(\"How many terms? \"))\n",
    "\n",
    "if nterms <= 0:\n",
    "    print(\"Please enter a positive number\")\n",
    "else:\n",
    "    print(\"Fibonacci sequence: \")\n",
    "    \n",
    "    for i in range(nterms):\n",
    "        print(recur_fibo(i))"
   ]
  },
  {
   "cell_type": "code",
   "execution_count": 4,
   "id": "d7d2dca9",
   "metadata": {},
   "outputs": [
    {
     "name": "stdout",
     "output_type": "stream",
     "text": [
      "enter a number: 6\n",
      "The factorial of 6 is 720\n"
     ]
    }
   ],
   "source": [
    "#2\n",
    "def recur_fact(n):\n",
    "    if n== 1:\n",
    "        return n\n",
    "    else:\n",
    "        return n*recur_fact(n-1)\n",
    "    \n",
    "num = int(input(\"enter a number: \"))\n",
    "\n",
    "if num<0:\n",
    "    print(\"sorry, there is no factorial for negitive number\")\n",
    "elif num ==0:\n",
    "    print(\"factorial of 0 is 1\")\n",
    "else:\n",
    "    print(\"The factorial of\",num,\"is\",recur_fact(num))"
   ]
  },
  {
   "cell_type": "code",
   "execution_count": 5,
   "id": "a78b2619",
   "metadata": {},
   "outputs": [
    {
     "name": "stdout",
     "output_type": "stream",
     "text": [
      "Enter your hight in cm: 162\n",
      "Enter yout weight in kg: 74\n",
      "your BMI is 28.19692120103642\n",
      "your over weight.\n"
     ]
    }
   ],
   "source": [
    "#3\n",
    "the_height= float(input(\"Enter your hight in cm: \"))\n",
    "the_weight = float(input(\"Enter yout weight in kg: \"))\n",
    "\n",
    "the_BMI= the_weight/(the_height/100)**2\n",
    "\n",
    "print(\"your BMI is\", the_BMI)\n",
    "\n",
    "if the_BMI<= 18.5:\n",
    "    print(\"your under weight.\")\n",
    "elif the_BMI <= 24.9:\n",
    "    print(\"your healthy.\")\n",
    "elif the_BMI <= 29.9:\n",
    "    print(\"your over weight.\")\n",
    "else:\n",
    "    print(\"your obese.\")"
   ]
  },
  {
   "cell_type": "code",
   "execution_count": 9,
   "id": "5c04da86",
   "metadata": {},
   "outputs": [
    {
     "name": "stdout",
     "output_type": "stream",
     "text": [
      "Enter a number:5.5\n",
      "the value is 1.7047480922384253\n"
     ]
    }
   ],
   "source": [
    "#4\n",
    "\n",
    "import math\n",
    "\n",
    "num = float(input(\"Enter a number:\"))\n",
    "\n",
    "ans = math.log(num)\n",
    "\n",
    "print(\"the value is\",ans)"
   ]
  },
  {
   "cell_type": "code",
   "execution_count": 10,
   "id": "05a02d16",
   "metadata": {},
   "outputs": [
    {
     "name": "stdout",
     "output_type": "stream",
     "text": [
      "enter a number:3\n",
      "36\n"
     ]
    }
   ],
   "source": [
    "#5\n",
    "num = int(input(\"enter a number:\"))\n",
    "s=0\n",
    "for i in range (1, num+1):\n",
    "    s= s+pow(i,3)\n",
    "    \n",
    "print(s)"
   ]
  },
  {
   "cell_type": "code",
   "execution_count": null,
   "id": "29dc6a2c",
   "metadata": {},
   "outputs": [],
   "source": []
  }
 ],
 "metadata": {
  "kernelspec": {
   "display_name": "Python 3 (ipykernel)",
   "language": "python",
   "name": "python3"
  },
  "language_info": {
   "codemirror_mode": {
    "name": "ipython",
    "version": 3
   },
   "file_extension": ".py",
   "mimetype": "text/x-python",
   "name": "python",
   "nbconvert_exporter": "python",
   "pygments_lexer": "ipython3",
   "version": "3.9.12"
  }
 },
 "nbformat": 4,
 "nbformat_minor": 5
}
