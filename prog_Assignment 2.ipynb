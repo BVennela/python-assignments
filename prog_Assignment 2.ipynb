{
 "cells": [
  {
   "cell_type": "code",
   "execution_count": 8,
   "id": "a2b3a880",
   "metadata": {},
   "outputs": [
    {
     "name": "stdout",
     "output_type": "stream",
     "text": [
      "Enter the value in kilometers: 11\n",
      "the vale in mile is : 6.83507\n"
     ]
    }
   ],
   "source": [
    "#1\n",
    "KM= float(input(\"Enter the value in kilometers: \"))\n",
    "miles = KM*0.62137\n",
    "print('the vale in mile is :', miles)"
   ]
  },
  {
   "cell_type": "code",
   "execution_count": 11,
   "id": "b2d95def",
   "metadata": {},
   "outputs": [
    {
     "name": "stdout",
     "output_type": "stream",
     "text": [
      "Enter the value in celsius: 23\n",
      "the 23.00 degree celsius is equal to: 73.40 Fahrenheit\n"
     ]
    }
   ],
   "source": [
    "#2\n",
    "celsius= float(input(\"Enter the value in celsius: \"))\n",
    "fahrenheit = celsius*1.8+32\n",
    "print('the %.2f degree celsius is equal to: %.2f Fahrenheit'%( celsius,fahrenheit))"
   ]
  },
  {
   "cell_type": "code",
   "execution_count": 14,
   "id": "f8adf976",
   "metadata": {},
   "outputs": [
    {
     "name": "stdout",
     "output_type": "stream",
     "text": [
      "Enter required year: 1999\n",
      "Enter required month: 03\n",
      "     March 1999\n",
      "Mo Tu We Th Fr Sa Su\n",
      " 1  2  3  4  5  6  7\n",
      " 8  9 10 11 12 13 14\n",
      "15 16 17 18 19 20 21\n",
      "22 23 24 25 26 27 28\n",
      "29 30 31\n",
      "\n"
     ]
    }
   ],
   "source": [
    "#3\n",
    "import calendar\n",
    "\n",
    "yy=int(input(\"Enter required year: \"))\n",
    "mm= int(input(\"Enter required month: \"))\n",
    "\n",
    "print(calendar.month(yy,mm))"
   ]
  },
  {
   "cell_type": "code",
   "execution_count": 17,
   "id": "b6f3a55b",
   "metadata": {},
   "outputs": [
    {
     "name": "stdout",
     "output_type": "stream",
     "text": [
      "Enter a: 8\n",
      "Enter b: 5\n",
      "Enter c: 9\n",
      "The solution is (-5+64.86909896090742j) and (-5-64.86909896090742j)\n"
     ]
    }
   ],
   "source": [
    "#4\n",
    "import cmath\n",
    "\n",
    "a= float(input(\"Enter a: \"))\n",
    "b= float(input(\"Enter b: \"))\n",
    "c= float(input(\"Enter c: \"))\n",
    "\n",
    "d= (b**2)-(4*a*c)\n",
    "\n",
    "sol1 = (-b+ cmath.sqrt(d)/2*a)\n",
    "sol2 = (-b-cmath.sqrt(d)/2*a)\n",
    "\n",
    "print(\"The solution is {0} and {1}\" .format(sol1,sol2))"
   ]
  },
  {
   "cell_type": "code",
   "execution_count": 19,
   "id": "40524d0b",
   "metadata": {},
   "outputs": [
    {
     "name": "stdout",
     "output_type": "stream",
     "text": [
      "enter a number: 22\n",
      "enter another number:43\n",
      "The value of a: 43\n",
      "The value of b: 22\n"
     ]
    }
   ],
   "source": [
    "#5\n",
    "a=int(input(\"enter a number: \"))\n",
    "b=int(input(\"enter another number:\"))\n",
    "\n",
    "a=a+b\n",
    "b=a-b\n",
    "a=a-b\n",
    "\n",
    "print('The value of a:',a)\n",
    "print('The value of b:',b)"
   ]
  },
  {
   "cell_type": "code",
   "execution_count": null,
   "id": "d581657c",
   "metadata": {},
   "outputs": [],
   "source": []
  }
 ],
 "metadata": {
  "kernelspec": {
   "display_name": "Python 3 (ipykernel)",
   "language": "python",
   "name": "python3"
  },
  "language_info": {
   "codemirror_mode": {
    "name": "ipython",
    "version": 3
   },
   "file_extension": ".py",
   "mimetype": "text/x-python",
   "name": "python",
   "nbconvert_exporter": "python",
   "pygments_lexer": "ipython3",
   "version": "3.9.12"
  }
 },
 "nbformat": 4,
 "nbformat_minor": 5
}
