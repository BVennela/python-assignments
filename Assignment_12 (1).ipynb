{
 "cells": [
  {
   "cell_type": "markdown",
   "id": "06f2bb58",
   "metadata": {},
   "source": [
    "#1.\n",
    "These files will be opened in binary mode., read binary (rb) for PdfFileREader() and write binary (wb) PdfFileWriter()\n"
   ]
  },
  {
   "cell_type": "markdown",
   "id": "41fd850a",
   "metadata": {},
   "source": [
    "#2.\n",
    "Calling getPage(4) will return a Page object for page 5 since page 0 is the first page.\n"
   ]
  },
  {
   "cell_type": "markdown",
   "id": "05e3910a",
   "metadata": {},
   "source": [
    "#3\n",
    "The total number of pages in the document is stored in the numPages attribute of a PdfFileReader object"
   ]
  },
  {
   "cell_type": "markdown",
   "id": "303ca4dc",
   "metadata": {},
   "source": [
    "#4.\n",
    "Before we obtain the page object, the pdf has to be decrypted by calling .decrypt('swordfish')"
   ]
  },
  {
   "cell_type": "markdown",
   "id": "a700b77f",
   "metadata": {},
   "source": [
    "#5\n",
    "The rotateClockwise() and rotateCounterClockwise() methods. The degrees to rotate is passed as an integer argument"
   ]
  },
  {
   "cell_type": "markdown",
   "id": "d526e8f5",
   "metadata": {},
   "source": [
    "#6\n",
    "Paragraph Object : A document contains multiple paragraphs. A paragraph begins on a new line and contains multiple runs. The Document object contains a list of Paragraph objects for the paragraphs in the document. (A new paragraph begins whenever the user presses ENTER or RETURN while typing in a Word document.)\n",
    "  Run Objects : Runs are contiguous groups of characters within a paragraph with the same style"
   ]
  },
  {
   "cell_type": "markdown",
   "id": "a940c367",
   "metadata": {},
   "source": [
    "#7\n",
    "docx.Document('demo.docx')"
   ]
  },
  {
   "cell_type": "markdown",
   "id": "2b366ad0",
   "metadata": {},
   "source": [
    "#8\n",
    "A Run object has bold, underline,italic,strike and outline variables"
   ]
  },
  {
   "cell_type": "markdown",
   "id": "1362286f",
   "metadata": {},
   "source": [
    "#9.\n",
    "Runs can be further styled using text attributes. Each attribute can be set to one of three values:\n",
    "  True (the attribute is always enabled, no matter what other styles are applied to the run),\n",
    "  False (the attribute is always disabled),\n",
    "  None (defaults to whatever the run’s style is set to)\n",
    "\n",
    "True always makes the Run object bolded and False makes it always not bolded, no matter what the style’s bold setting is. None will make the Run object just use the style’s bold setting"
   ]
  },
  {
   "cell_type": "markdown",
   "id": "47cd123c",
   "metadata": {},
   "source": [
    "#10\n",
    "By Calling the docx.Document() function."
   ]
  },
  {
   "cell_type": "markdown",
   "id": "22f3edf9",
   "metadata": {},
   "source": [
    "#11.\n",
    "import docx\n",
    " doc = docx.Document()\n",
    "\n",
    " doc.add_paragraph('Hello there!')\n",
    " doc.save('hellothere.docx')"
   ]
  },
  {
   "cell_type": "markdown",
   "id": "2b69177d",
   "metadata": {},
   "source": [
    "#12.\n",
    "    integer from 0 to 4\n",
    "   The arguments to add_heading() are a string of the heading text and an integer from 0 to 4. The integer 0 makes the heading the Title style, which is used for the top of the document. Integers 1 to 4 are for various heading levels, with 1 being the main heading and 4 the lowest subheading"
   ]
  },
  {
   "cell_type": "code",
   "execution_count": null,
   "id": "05af817b",
   "metadata": {},
   "outputs": [],
   "source": []
  },
  {
   "cell_type": "code",
   "execution_count": null,
   "id": "56bbec5f",
   "metadata": {},
   "outputs": [],
   "source": []
  },
  {
   "cell_type": "code",
   "execution_count": null,
   "id": "46d16ceb",
   "metadata": {},
   "outputs": [],
   "source": []
  }
 ],
 "metadata": {
  "kernelspec": {
   "display_name": "Python 3 (ipykernel)",
   "language": "python",
   "name": "python3"
  },
  "language_info": {
   "codemirror_mode": {
    "name": "ipython",
    "version": 3
   },
   "file_extension": ".py",
   "mimetype": "text/x-python",
   "name": "python",
   "nbconvert_exporter": "python",
   "pygments_lexer": "ipython3",
   "version": "3.9.12"
  }
 },
 "nbformat": 4,
 "nbformat_minor": 5
}
