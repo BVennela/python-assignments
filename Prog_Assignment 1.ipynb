{
 "cells": [
  {
   "cell_type": "code",
   "execution_count": 1,
   "id": "c34dd694",
   "metadata": {},
   "outputs": [
    {
     "name": "stdout",
     "output_type": "stream",
     "text": [
      "hello python\n"
     ]
    }
   ],
   "source": [
    "# 1\n",
    "print(\"hello python\")"
   ]
  },
  {
   "cell_type": "code",
   "execution_count": 2,
   "id": "7fc2a6b8",
   "metadata": {},
   "outputs": [
    {
     "name": "stdout",
     "output_type": "stream",
     "text": [
      "enter a number:3\n",
      "enter another number:3\n",
      "The sum valu is : 6.0\n",
      "The div value is: 1.0\n"
     ]
    }
   ],
   "source": [
    "#2\n",
    "a= float(input('enter a number:'))\n",
    "b=float(input(\"enter another number:\"))\n",
    "c = a+b\n",
    "d = a/b\n",
    "print('The sum valu is :', c)\n",
    "print( 'The div value is:' , d)"
   ]
  },
  {
   "cell_type": "code",
   "execution_count": 3,
   "id": "6686acf3",
   "metadata": {},
   "outputs": [
    {
     "name": "stdout",
     "output_type": "stream",
     "text": [
      "enter x value:21\n",
      "enter y value:33\n",
      "The value of x: 33.0\n",
      "The value of y: 21.0\n"
     ]
    }
   ],
   "source": [
    "#3\n",
    "x= float(input('enter x value:'))\n",
    "y=float(input(\"enter y value:\"))\n",
    "temp = x\n",
    "x=y\n",
    "y = temp\n",
    "print('The value of x:',x)\n",
    "print('The value of y:',y)"
   ]
  },
  {
   "cell_type": "code",
   "execution_count": 4,
   "id": "2b8164e5",
   "metadata": {},
   "outputs": [
    {
     "name": "stdout",
     "output_type": "stream",
     "text": [
      "0.8629447374927901\n"
     ]
    }
   ],
   "source": [
    "#4\n",
    "import random\n",
    "n= random.random()\n",
    "print(n)"
   ]
  },
  {
   "cell_type": "code",
   "execution_count": null,
   "id": "a807751c",
   "metadata": {},
   "outputs": [],
   "source": []
  }
 ],
 "metadata": {
  "kernelspec": {
   "display_name": "Python 3 (ipykernel)",
   "language": "python",
   "name": "python3"
  },
  "language_info": {
   "codemirror_mode": {
    "name": "ipython",
    "version": 3
   },
   "file_extension": ".py",
   "mimetype": "text/x-python",
   "name": "python",
   "nbconvert_exporter": "python",
   "pygments_lexer": "ipython3",
   "version": "3.9.12"
  }
 },
 "nbformat": 4,
 "nbformat_minor": 5
}
