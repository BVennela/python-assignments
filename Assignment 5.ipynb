{
 "cells": [
  {
   "cell_type": "markdown",
   "id": "4ada0e80",
   "metadata": {},
   "source": [
    "#1\n",
    "An empty dictionary's code looks like {}"
   ]
  },
  {
   "cell_type": "markdown",
   "id": "7a1fdb40",
   "metadata": {},
   "source": [
    "#2\n",
    "{'foo': 42}"
   ]
  },
  {
   "cell_type": "markdown",
   "id": "16b69eb6",
   "metadata": {},
   "source": [
    "#3\n",
    "in dictionary we will get unordered items where as in list we get ordered items"
   ]
  },
  {
   "cell_type": "markdown",
   "id": "179dd119",
   "metadata": {},
   "source": [
    "#4\n",
    "we will get a key error."
   ]
  },
  {
   "cell_type": "markdown",
   "id": "802861fe",
   "metadata": {},
   "source": [
    "#5\n",
    "There is no difference. The in operator checks whether a value exists as a key in the dictionary."
   ]
  },
  {
   "cell_type": "markdown",
   "id": "a9b372f8",
   "metadata": {},
   "source": [
    "#6\n",
    "cat' in spam checks whether there is a 'cat' key in the dictionary, while 'cat' in spam.values() checks whether there is a value 'cat' for one of the keys in spam."
   ]
  },
  {
   "cell_type": "markdown",
   "id": "0e2640ee",
   "metadata": {},
   "source": [
    "#7\n",
    "spam.setdefault('color', 'black')"
   ]
  },
  {
   "cell_type": "code",
   "execution_count": null,
   "id": "d7bb128b",
   "metadata": {},
   "outputs": [],
   "source": [
    "#8\n",
    "pprint.pprint()"
   ]
  }
 ],
 "metadata": {
  "kernelspec": {
   "display_name": "Python 3 (ipykernel)",
   "language": "python",
   "name": "python3"
  },
  "language_info": {
   "codemirror_mode": {
    "name": "ipython",
    "version": 3
   },
   "file_extension": ".py",
   "mimetype": "text/x-python",
   "name": "python",
   "nbconvert_exporter": "python",
   "pygments_lexer": "ipython3",
   "version": "3.9.12"
  }
 },
 "nbformat": 4,
 "nbformat_minor": 5
}
